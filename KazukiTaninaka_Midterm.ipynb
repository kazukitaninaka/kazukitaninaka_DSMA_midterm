{
  "nbformat": 4,
  "nbformat_minor": 0,
  "metadata": {
    "colab": {
      "name": "KazukiTaninaka_Midterm.ipynb",
      "provenance": [],
      "collapsed_sections": [],
      "authorship_tag": "ABX9TyMhf5Mfhxgiw2PiYW50EqeB",
      "include_colab_link": true
    },
    "kernelspec": {
      "name": "python3",
      "display_name": "Python 3"
    },
    "language_info": {
      "name": "python"
    }
  },
  "cells": [
    {
      "cell_type": "markdown",
      "metadata": {
        "id": "view-in-github",
        "colab_type": "text"
      },
      "source": [
        "<a href=\"https://colab.research.google.com/github/kazukitaninaka/kazukitaninaka_DSMA_midterm/blob/main/KazukiTaninaka_Midterm.ipynb\" target=\"_parent\"><img src=\"https://colab.research.google.com/assets/colab-badge.svg\" alt=\"Open In Colab\"/></a>"
      ]
    },
    {
      "cell_type": "markdown",
      "metadata": {
        "id": "sXVDAE3QOKCf"
      },
      "source": [
        "#Data and Social Media Analysis\n",
        "## Unofficial midterm aka. take home exam for the pandas part of this course\n",
        "\n",
        "Feel free to use any means available to you such as class notebooks, lecture vidoes, Google, StackOverFlow, online tutorials etc. The only thing I ask is that you do this yourself. This means not asking your programmer friend for help or posting a question from the exam on stackoverflow or similar.\n",
        "Good luck!!!\n",
        "\n",
        "1. Read in the ramen ratings file as a dataframe\n",
        "2. set appropriate index and column names and print out an overview of the dataframe\n",
        "3. Print a subset of the dataframe that only has the information of the brand of ramen and its score (hint: not groupby, or creation of new dataframe. How can we access specific rows or columns of data?)\n",
        "5. Oh no, it seems the last column is full of null values. Convert these to NaN.\n",
        "4. Display only the rows where the brand is Nissin and the rating is above 3.5 (some data type conversion might be necessary)\n",
        "\n",
        "6. Group the ramen by brand and calculate the mean, max, and min values in a single output.\n",
        "\n",
        "7. What is the mode rating for all ramen?\n",
        "8. Groupby brand and variety. Can you figure out a way to display this information in descending order (highest to lowest)? Which has the highest average?\n",
        "8. How many different brands of ramen are included in the dataset?"
      ]
    },
    {
      "cell_type": "markdown",
      "metadata": {
        "id": "ygi4Pz8DW_qx"
      },
      "source": [
        "Link to GitHub\n",
        "https://colab.research.google.com/drive/1VKJoRyVYBNbaOLa38mdtkPsY8vtIHgmF#scrollTo=ygi4Pz8DW_qx"
      ]
    },
    {
      "cell_type": "markdown",
      "metadata": {
        "id": "wJFTbGg_h8Cm"
      },
      "source": [
        "1M190419\n",
        "Kazuki Taninaka"
      ]
    },
    {
      "cell_type": "code",
      "metadata": {
        "id": "02lLQpvJmALn"
      },
      "source": [
        "import pandas as pd\n",
        "\n",
        "#1\n",
        "ramen_df = pd.read_csv(\"ramen-ratings.csv\")\n",
        "#2\n",
        "ramen_df.index += 1 # so that the index starts from 1\n",
        "ramen_df.head()"
      ],
      "execution_count": null,
      "outputs": []
    },
    {
      "cell_type": "code",
      "metadata": {
        "id": "m71jBDIemIOA"
      },
      "source": [
        "#3\n",
        "ramen_df[[\"Brand\", \"Stars\"]]"
      ],
      "execution_count": null,
      "outputs": []
    },
    {
      "cell_type": "code",
      "metadata": {
        "id": "T9fDbf2-mJ7N"
      },
      "source": [
        "#4\n",
        "# It's already converted to NaN\n",
        "ramen_df.head()"
      ],
      "execution_count": null,
      "outputs": []
    },
    {
      "cell_type": "code",
      "metadata": {
        "id": "p_RLvtSVmZzX"
      },
      "source": [
        "#5\n",
        "def convertToFloat(x):\n",
        "    try:\n",
        "        return float(x)\n",
        "    except ValueError:\n",
        "        return None # because some Stars have \"Unrated\"\n",
        "\n",
        "ramen_df[\"Stars\"] = ramen_df[\"Stars\"].apply(convertToFloat)\n",
        "ramen_df[(ramen_df[\"Brand\"] == \"Nissin\") & (ramen_df[\"Stars\"] > 3.5)]"
      ],
      "execution_count": null,
      "outputs": []
    },
    {
      "cell_type": "code",
      "metadata": {
        "id": "-Rf2BfLVtTkU"
      },
      "source": [
        "#6\n",
        "import numpy as np\n",
        "ramen_df.groupby(\"Brand\")[\"Stars\"].agg([np.mean, max, min])"
      ],
      "execution_count": null,
      "outputs": []
    },
    {
      "cell_type": "code",
      "metadata": {
        "id": "9Vk1GuDGQDri"
      },
      "source": [
        "#7\n",
        "ramen_df[\"Stars\"].mode()[0]"
      ],
      "execution_count": null,
      "outputs": []
    },
    {
      "cell_type": "code",
      "metadata": {
        "id": "izeS54ItRddn"
      },
      "source": [
        "#8\n",
        "ramen_df2 = ramen_df.groupby([\"Brand\", \"Variety\"]).mean().sort_values([\"Brand\", \"Stars\"], ascending=False)\n",
        "ramen_df2.head(30)"
      ],
      "execution_count": null,
      "outputs": []
    },
    {
      "cell_type": "code",
      "metadata": {
        "colab": {
          "base_uri": "https://localhost:8080/"
        },
        "id": "1Q845PewUpHc",
        "outputId": "a1eb85f7-a886-4b65-a8c3-595d1c9f9676"
      },
      "source": [
        "#9\n",
        "ramen_df[\"Brand\"].nunique()"
      ],
      "execution_count": null,
      "outputs": [
        {
          "output_type": "execute_result",
          "data": {
            "text/plain": [
              "355"
            ]
          },
          "metadata": {},
          "execution_count": 21
        }
      ]
    }
  ]
}